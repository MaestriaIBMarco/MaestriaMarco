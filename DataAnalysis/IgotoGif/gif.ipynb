{
 "cells": [
  {
   "cell_type": "code",
   "execution_count": 1,
   "metadata": {},
   "outputs": [],
   "source": [
    "import gif_from_trayectories as gft\n",
    "import pandas as pd "
   ]
  },
  {
   "cell_type": "markdown",
   "metadata": {},
   "source": [
    "Voy a ver entre que fechas tengo que loopear para hacer los gifs "
   ]
  },
  {
   "cell_type": "code",
   "execution_count": 2,
   "metadata": {},
   "outputs": [],
   "source": [
    "folder=\"D:\\\\facultad\\\\IB5toCuatri\\\\Tesis\\\\MaestriaMarco\\\\DataAnalysis\\\\DatosIgoto2022Todos\" \n",
    "dfs,t_names=gft.get_files_and_dates(folder)\n",
    "unifydf, dates, colors= gft.get_df_days_colors(dfs,t_names)"
   ]
  },
  {
   "cell_type": "code",
   "execution_count": 3,
   "metadata": {},
   "outputs": [],
   "source": [
    "dates_for_loop= dates.value_counts()[:50].index"
   ]
  },
  {
   "cell_type": "code",
   "execution_count": 4,
   "metadata": {},
   "outputs": [
    {
     "data": {
      "text/plain": [
       "Index([2022-01-29, 2022-01-30, 2022-01-31, 2022-02-01, 2022-02-02, 2022-02-03,\n",
       "       2022-02-04, 2022-02-05, 2022-02-06, 2022-02-07, 2022-02-08, 2022-02-09,\n",
       "       2022-02-10, 2022-02-11, 2022-02-23, 2022-02-25, 2022-02-26, 2022-02-27,\n",
       "       2022-02-28, 2022-03-01, 2022-03-02, 2022-03-03, 2022-03-04, 2022-03-05,\n",
       "       2022-03-06, 2022-03-07, 2022-03-08, 2022-03-09, 2022-03-10, 2022-03-11,\n",
       "       2022-03-12, 2022-03-13, 2022-03-14, 2022-03-15, 2022-03-16, 2022-03-17,\n",
       "       2022-03-18, 2022-03-19, 2022-04-04, 2022-04-05, 2022-04-06, 2022-04-07,\n",
       "       2022-04-08, 2022-04-09, 2022-04-10, 2022-04-11, 2022-04-12, 2022-04-13,\n",
       "       2022-04-14, 2022-04-15],\n",
       "      dtype='object')"
      ]
     },
     "execution_count": 4,
     "metadata": {},
     "output_type": "execute_result"
    }
   ],
   "source": [
    "dates_for_loop=dates_for_loop.sort_values()\n",
    "dates_for_loop"
   ]
  },
  {
   "cell_type": "markdown",
   "metadata": {},
   "source": [
    "Me armo objetos del tipo folium map y me los guardo en formato html, se guarda el mapa cada 15 minutos arrancando desde 8am hasta las 8pm"
   ]
  },
  {
   "cell_type": "code",
   "execution_count": 5,
   "metadata": {},
   "outputs": [],
   "source": [
    "gft.save_maps(unifydf,dates_for_loop[0:14],colors)#tine para cambiar la hora donde arranca y conque frecuencia hacer los mapas "
   ]
  },
  {
   "cell_type": "code",
   "execution_count": 2,
   "metadata": {},
   "outputs": [],
   "source": [
    "html_folder=\"D:\\\\facultad\\\\IB5toCuatri\\\\Tesis\\\\MaestriaMarco\\\\DataAnalysis\\\\IgotoGif\" "
   ]
  },
  {
   "cell_type": "markdown",
   "metadata": {},
   "source": [
    "Abre los mapas y hace una captura de pantalla, tarda porque tiene que \"renderearlo\" antes de sacarle captura de pantalla \n"
   ]
  },
  {
   "cell_type": "code",
   "execution_count": 4,
   "metadata": {},
   "outputs": [],
   "source": [
    "gft.make_pngs(html_folder) # si no se quiere borrar mapas tiene un booleano "
   ]
  },
  {
   "cell_type": "markdown",
   "metadata": {},
   "source": [
    "Levanta todos los pngs y arma un .gif\n"
   ]
  },
  {
   "cell_type": "code",
   "execution_count": 2,
   "metadata": {},
   "outputs": [
    {
     "ename": "NameError",
     "evalue": "name 'html_folder' is not defined",
     "output_type": "error",
     "traceback": [
      "\u001b[1;31m---------------------------------------------------------------------------\u001b[0m",
      "\u001b[1;31mNameError\u001b[0m                                 Traceback (most recent call last)",
      "\u001b[1;32md:\\facultad\\IB5toCuatri\\Tesis\\MaestriaMarco\\DataAnalysis\\IgotoGif\\gif.ipynb Celda 9\u001b[0m in \u001b[0;36m<cell line: 1>\u001b[1;34m()\u001b[0m\n\u001b[1;32m----> <a href='vscode-notebook-cell:/d%3A/facultad/IB5toCuatri/Tesis/MaestriaMarco/DataAnalysis/IgotoGif/gif.ipynb#X10sZmlsZQ%3D%3D?line=0'>1</a>\u001b[0m gft\u001b[39m.\u001b[39mmake_gif(html_folder,remove_pngs\u001b[39m=\u001b[39m\u001b[39mFalse\u001b[39;00m)\n",
      "\u001b[1;31mNameError\u001b[0m: name 'html_folder' is not defined"
     ]
    }
   ],
   "source": [
    "gft.make_gif(html_folder,remove_pngs=False)"
   ]
  }
 ],
 "metadata": {
  "kernelspec": {
   "display_name": "Python 3.8.13 ('base')",
   "language": "python",
   "name": "python3"
  },
  "language_info": {
   "codemirror_mode": {
    "name": "ipython",
    "version": 3
   },
   "file_extension": ".py",
   "mimetype": "text/x-python",
   "name": "python",
   "nbconvert_exporter": "python",
   "pygments_lexer": "ipython3",
   "version": "3.8.13"
  },
  "orig_nbformat": 4,
  "vscode": {
   "interpreter": {
    "hash": "ad2bdc8ecc057115af97d19610ffacc2b4e99fae6737bb82f5d7fb13d2f2c186"
   }
  }
 },
 "nbformat": 4,
 "nbformat_minor": 2
}
