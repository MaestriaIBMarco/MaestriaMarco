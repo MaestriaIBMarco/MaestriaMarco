{
 "cells": [
  {
   "cell_type": "code",
   "execution_count": 1,
   "metadata": {},
   "outputs": [],
   "source": [
    "import gif_from_trayectories as gft\n",
    "import pandas as pd "
   ]
  },
  {
   "cell_type": "markdown",
   "metadata": {},
   "source": [
    "Voy a ver entre que fechas tengo que loopear para hacer los gifs "
   ]
  },
  {
   "cell_type": "code",
   "execution_count": 2,
   "metadata": {},
   "outputs": [],
   "source": [
    "folder=\"D:\\\\facultad\\\\IB5toCuatri\\\\Tesis\\\\MaestriaMarco\\\\DataAnalysis\\\\DatosIgoto2022Todos\" \n",
    "dfs,t_names=gft.get_files_and_dates(folder)\n",
    "unifydf, dates, colors= gft.get_df_days_colors(dfs,t_names)"
   ]
  },
  {
   "cell_type": "code",
   "execution_count": 3,
   "metadata": {},
   "outputs": [],
   "source": [
    "dates_for_loop= dates.value_counts()[:50].index\n",
    "dates_for_loop=dates_for_loop.sort_values()"
   ]
  },
  {
   "cell_type": "markdown",
   "metadata": {},
   "source": [
    "Me armo objetos del tipo folium map y me los guardo en formato html, se guarda el mapa cada 15 minutos arrancando desde 8am hasta las 8pm"
   ]
  },
  {
   "cell_type": "code",
   "execution_count": 7,
   "metadata": {},
   "outputs": [
    {
     "name": "stderr",
     "output_type": "stream",
     "text": [
      "d:\\facultad\\IB5toCuatri\\Tesis\\MaestriaMarco\\DataAnalysis\\IgotoGif\\gif_from_trayectories.py:136: FutureWarning: DatetimeIndex.union_many is deprecated and will be removed in a future version. Use obj.union instead.\n",
      "  time=time[0].union_many(time[0:])\n"
     ]
    }
   ],
   "source": [
    "gft.save_maps_with_prev_points(unifydf,dates_for_loop[0:14],colors,save_folder=\"D:\\\\facultad\\\\IB5toCuatri\\\\Tesis\\\\MaestriaMarco\\\\DataAnalysis\\\\IgotoGif\\\\pngs\\\\\")#tine para cambiar la hora donde arranca y conque frecuencia hacer los mapas "
   ]
  },
  {
   "cell_type": "code",
   "execution_count": 8,
   "metadata": {},
   "outputs": [],
   "source": [
    "html_folder=\"D:\\\\facultad\\\\IB5toCuatri\\\\Tesis\\\\MaestriaMarco\\\\DataAnalysis\\\\IgotoGif\\\\pngs\" "
   ]
  },
  {
   "cell_type": "markdown",
   "metadata": {},
   "source": [
    "Abre los mapas y hace una captura de pantalla, tarda porque tiene que \"renderearlo\" antes de sacarle captura de pantalla \n"
   ]
  },
  {
   "cell_type": "code",
   "execution_count": 9,
   "metadata": {},
   "outputs": [],
   "source": [
    "gft.make_pngs(html_folder,remove_htmls=False) # si no se quiere borrar mapas tiene un booleano "
   ]
  },
  {
   "cell_type": "markdown",
   "metadata": {},
   "source": [
    "Levanta todos los pngs y arma un .gif\n"
   ]
  },
  {
   "cell_type": "code",
   "execution_count": 10,
   "metadata": {},
   "outputs": [],
   "source": [
    "html_folder=\"D:\\\\facultad\\\\IB5toCuatri\\\\Tesis\\\\MaestriaMarco\\\\DataAnalysis\\\\IgotoGif\\\\pngs\" "
   ]
  },
  {
   "cell_type": "code",
   "execution_count": 11,
   "metadata": {},
   "outputs": [],
   "source": [
    "gft.make_gif(html_folder,remove_pngs=False,low_quality=False) # si no se quiere borrar pngs de ka caroeta kyegi"
   ]
  }
 ],
 "metadata": {
  "kernelspec": {
   "display_name": "Python 3.8.13 ('base')",
   "language": "python",
   "name": "python3"
  },
  "language_info": {
   "codemirror_mode": {
    "name": "ipython",
    "version": 3
   },
   "file_extension": ".py",
   "mimetype": "text/x-python",
   "name": "python",
   "nbconvert_exporter": "python",
   "pygments_lexer": "ipython3",
   "version": "3.8.13"
  },
  "orig_nbformat": 4,
  "vscode": {
   "interpreter": {
    "hash": "ad2bdc8ecc057115af97d19610ffacc2b4e99fae6737bb82f5d7fb13d2f2c186"
   }
  }
 },
 "nbformat": 4,
 "nbformat_minor": 2
}
